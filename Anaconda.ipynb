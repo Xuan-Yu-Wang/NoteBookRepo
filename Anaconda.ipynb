{
 "cells": [
  {
   "cell_type": "markdown",
   "metadata": {},
   "source": [
    "# Introducation\n",
    "\n",
    "在使用Python语言编写程序之前需要下载Python解释器，解释器才是Python的本体。其位置在一般在各个设备的PATH下。（例如自用ThinkPad的Python解释器安装路径为C:\\users\\Allen X Y Wang\\AppData\\Local\\Programs\\Python，以及所有软件包的PATH查询路径为“控制面板>系统>环境变量>PATH”）路径中的python.exe即为解释器，用于解释所有使用Python语言的脚本文件；lib为包文件，用以存储管理所有的自带包和第三方包（一般第三方包常常存储在lib中的site-packages文件夹内），第三方的包通常利用pip来下载安装。总结，Python环境需要**解释器**和**包集合**。\n",
    "\n",
    "基于此背景，这样就引发了两个问题：1. 在需要使用不同解释器的项目时，如何切换解释器以及环境变量该归属于哪一个解释器呢？2. 不同项目的所有包都会混杂在同一系统环境下，以及另外的设备运行脚本时又会因开发环境不同可能无法运行。\n",
    "Anaconda提供了不同程序项目在不同环境下开发，并在开发完毕后独立打包对应程序所需环境的功能。"
   ]
  },
  {
   "cell_type": "markdown",
   "metadata": {},
   "source": [
    "# Install Anaconda in a Windows System "
   ]
  },
  {
   "cell_type": "markdown",
   "metadata": {},
   "source": [
    "# Install Anaconda in a Macbook "
   ]
  },
  {
   "cell_type": "markdown",
   "metadata": {},
   "source": [
    "# Reference "
   ]
  }
 ],
 "metadata": {
  "kernelspec": {
   "display_name": "Python 3",
   "language": "python",
   "name": "python3"
  },
  "language_info": {
   "codemirror_mode": {
    "name": "ipython",
    "version": 3
   },
   "file_extension": ".py",
   "mimetype": "text/x-python",
   "name": "python",
   "nbconvert_exporter": "python",
   "pygments_lexer": "ipython3",
   "version": "3.7.7"
  },
  "toc": {
   "base_numbering": 1,
   "nav_menu": {},
   "number_sections": true,
   "sideBar": true,
   "skip_h1_title": false,
   "title_cell": "Table of Contents",
   "title_sidebar": "Contents",
   "toc_cell": false,
   "toc_position": {},
   "toc_section_display": true,
   "toc_window_display": true
  }
 },
 "nbformat": 4,
 "nbformat_minor": 4
}
