{
 "cells": [
  {
   "cell_type": "markdown",
   "metadata": {},
   "source": [
    "# Introducation\n",
    "\n",
    "在使用Python语言编写程序之前需要下载Python解释器，解释器才是Python的本体。其位置在一般在各个设备的PATH下。（例如自用ThinkPad的Python解释器安装路径为C:\\users\\Allen X Y Wang\\AppData\\Local\\Programs\\Python，以及所有软件包的PATH查询路径为“控制面板>系统>高级系统设置>环境变量>PATH”）路径中的python.exe即为解释器，用于解释所有使用Python语言的脚本文件；lib为包文件，用以存储管理所有的自带包和第三方包（一般第三方包常常存储在lib中的site-packages文件夹内），第三方的包通常利用pip来下载安装。总结，Python环境需要**解释器**和**包集合**。\n",
    "\n",
    "基于此背景，这样就引发了两个问题：1. 在需要使用不同解释器的项目时，如何切换解释器以及环境变量该归属于哪一个解释器呢？2. 不同项目的所有包都会混杂在同一系统环境下，以及另外的设备运行脚本时又会因开发环境不同可能无法运行。\n",
    "Anaconda提供了不同程序项目在不同环境下开发，并在开发完毕后独立打包对应程序所需环境的功能以解决以上问题。"
   ]
  },
  {
   "cell_type": "markdown",
   "metadata": {},
   "source": [
    "# Install Anaconda\n",
    "\n",
    "## 下载Anaconda\n",
    "\n",
    "[Anaconda官网](https://www.anaconda.com/distribution/)；\n",
    "\n",
    "## 安装\n",
    "\n",
    "按照流程提示一步步安装即可；\n",
    "\n",
    "## 配置环境变量\n",
    "\n",
    "（1）windows：在“控制面板>系统>高级系统设置>环境变量>PATH”中添加Anaconda的Scripts文件夹的路径（例如本机添加的路径为C:\\users\\Allen X Y Wang\\anaconda\\Scripts）；\n",
    "\n",
    "（2）Mac：如果安装完毕后终端未能验证成功，则需要手动添加配置环境变量。\n",
    "\n",
    " 修改.bash_profile：vim ~/.bash_profile\n",
    " \n",
    " 添加路径：输入export PATH=\"~/anaconda3/bin:'$PATH\"`，输入`:wq`后退出\n",
    " \n",
    " 保存文件并立即生效：source ~/.bash_profile\n",
    " \n",
    " 验证是否加入成功：echo `$PATH`\n",
    "    \n",
    "\n",
    "## 验证安装\n",
    "\n",
    "打开windows powershell并在当前路径下输入`conda --version`，若输出为conda的系统编号则证明环境变量配置成功。"
   ]
  },
  {
   "cell_type": "markdown",
   "metadata": {},
   "source": [
    "# Manage Anaconda\n",
    "\n",
    "## 创建环境\n",
    "\n",
    "（1）`conda create -n TensorFlow python=3`这里`TensorFlow`为自创环境的名称, `python=3`为指定解释器的版本（conda会自动寻找3.x中最新的版本下载）；\n",
    "\n",
    "（2）创建好环境后，需要激活进入此虚拟环境为`conda activate TensorFlow`（退出当前环境为`conda deactivate`）。\n",
    "\n",
    "## 配置环境\n",
    "\n",
    "（1）安装第三方包：`conda install numpy`或者`pip install numpy`，安装完毕后可通过在环境下调用python编译器import安装包检验；\n",
    "\n",
    "（2）卸载第三方包：`conda remove numpy`或者`pip uninstall numpy`；\n",
    "\n",
    "（3）更新第三方包：`conda update numpy`或者`conda update --all`更新当前环境下所有的包；\n",
    "\n",
    "（4）查看当前环境配置情况：`conda list`。\n",
    "\n",
    "## 导入导出环境\n",
    "\n",
    "（1）导出当前环境所有包信息：`conda env export > environmen.yaml`则所有包信息均可存入当前目录下yaml文件下；\n",
    "\n",
    "（2）导入创建一个相同虚拟环境：`conda env create -f environment.yaml`.\n",
    "\n",
    "## 删除环境\n",
    "\n",
    "删除名为TensorFlow的虚拟环境及其下属所有包：`conda remove -n TensorFlow --all`\n",
    "\n",
    "## 其他命令\n",
    "\n",
    "|命令|含义|\n",
    "|:---|:--|\n",
    "|`conda env list`|列出conda管理的所有环境|"
   ]
  },
  {
   "cell_type": "markdown",
   "metadata": {},
   "source": [
    "# Discussion\n",
    "\n",
    "Anaconda的原理可以通过查看其安装目录来一探究竟，打开其目录即可见名为`envs`的文件夹，同时此目录下也可见python解释器和lib包文件。打开`envs`文件夹可见`TensorFlow`文件夹，这就是刚创建好的虚拟环境。再次打开可见又是一个完整的python目录。因此，Anaconda所谓的创建虚拟环境其实就是安装了一个真实的python环境, 可通过activate,conda等命令去随意的切换我们当前的python环境, 用不同版本的解释器和不同的包环境去运行python脚本。"
   ]
  },
  {
   "cell_type": "markdown",
   "metadata": {},
   "source": [
    "# Reference \n",
    "\n",
    "- [Anaconda完全入门指南](https://www.jianshu.com/p/eaee1fadc1e9)"
   ]
  }
 ],
 "metadata": {
  "kernelspec": {
   "display_name": "Python 3",
   "language": "python",
   "name": "python3"
  },
  "language_info": {
   "codemirror_mode": {
    "name": "ipython",
    "version": 3
   },
   "file_extension": ".py",
   "mimetype": "text/x-python",
   "name": "python",
   "nbconvert_exporter": "python",
   "pygments_lexer": "ipython3",
   "version": "3.7.7"
  },
  "toc": {
   "base_numbering": 1,
   "nav_menu": {},
   "number_sections": true,
   "sideBar": true,
   "skip_h1_title": false,
   "title_cell": "Table of Contents",
   "title_sidebar": "Contents",
   "toc_cell": false,
   "toc_position": {},
   "toc_section_display": true,
   "toc_window_display": true
  }
 },
 "nbformat": 4,
 "nbformat_minor": 4
}
