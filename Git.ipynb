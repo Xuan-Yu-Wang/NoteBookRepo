{
 "cells": [
  {
   "cell_type": "markdown",
   "metadata": {},
   "source": [
    "# Summary "
   ]
  },
  {
   "cell_type": "markdown",
   "metadata": {},
   "source": [
    "# Installation\n",
    "\n",
    "## Windows\n",
    "\n",
    "1. [官网](https://git-scm.com/downloads)下载Git程序，然后按照默认选项安装即可；\n",
    "\n",
    "\n",
    "2. 在开始菜单打开Git Bash即可；\n",
    "\n",
    "\n",
    "3. 在Git Bash终端设置本机全局账户（--global参数表明此机所有Git Repository都会沿用此配置，当然也可以针对不同repository设置不同账户）：\n",
    "\n",
    "```\n",
    "git config --global user.name \"Xuan-Yu Wang\"\n",
    "\n",
    "git config --global user.email \"wangxuanyu@cau.edu.cn\"\n",
    "```\n",
    "*说明：*\n",
    "\n",
    "*- Git Bash在本机的当前安装目录为`C:\\users\\Allen X Y Wang`，因此每次启动Git Bash后可通过`cd C:/users/'Allen X Y Wang'/`进入操作目录*\n",
    "\n",
    "## Mac OS\n",
    "\n",
    "1. Mac OS可通过直接安装Xcode来获取git；\n",
    "\n",
    "\n",
    "2. 打开终端，在当前操作目录下设置本机全局账户：\n",
    "\n",
    "\n",
    "```\n",
    "git config --global user.name \"Xuan-Yu Wang\"\n",
    "\n",
    "git config --global user.email \"wangxuanyu@cau.edu.cn\"\n",
    "```"
   ]
  },
  {
   "cell_type": "markdown",
   "metadata": {},
   "source": [
    "# Repository \n",
    "\n",
    "## 创建仓库\n",
    "\n",
    "仓库可以理解为目录或文件夹，该目录下的所有文件动态均被git管理。因为git会将目录下所有动态过程记录在master分支里，同时考虑到ssh密钥以及git账户全局管理的问题，本机按照如下路径管理办法进行git本地仓库配置：\n",
    "\n",
    "    - 所有Project均存放在`C:\\users\\Allen X Y Wang\\ProMana`或`user/wangxuanyu/ProMana`目录下；\n",
    "\n",
    "    - 每个Project目录内各自初始化、建分支、链接同名远程仓库，彼此互不牵涉。\n",
    "\n",
    "1. 创建目录：在总项目管理目录ProMana下输入`mkdir LSTM-CNN` & `cd LSTM-CNN`；\n",
    "\n",
    "\n",
    "2. 初始化：在仓库目录内输入`git init`；\n",
    "\n",
    "\n",
    "## 仓库管理\n",
    "\n",
    "### Working Directory与Stage\n",
    "\n",
    "（1） 从Working Directory到Stage: `git add main.py`或`git rm main.py`；（2）从Stage到Working Directory：`git restore main.py`（未经add时，直接在WD放弃动态：`git restore main.py`）\n",
    "\n",
    "### Stage与Branch\n",
    "\n",
    "（1）从Stage到Branch：`git commit -m \"xxxxxxxxx\"`；\n",
    "\n",
    "（2）从Branch到Stage：\n",
    "\n",
    "- 查询commit版本号：`git log`      \n",
    "- 版本回退：`git reset --hard <版本号>`\n",
    "\n",
    "<br>\n",
    "<br>\n",
    "\n",
    "附：`git log`命令常见参数表：\n",
    "\n",
    "|格式|举例|含义|\n",
    "|:---|:---|:---|\n",
    "|git log --graph|git log --graph|以图的形式展示commit记录|\n",
    "|git log -[length]|git log --oneline -2|仅展示前两条commit记录|\n",
    "|git log --skip=[skip]|git log --skip=1 -2 --oneline|查看第二和第三条commit记录|\n",
    "\n",
    "### Branch与Remote Repository\n",
    "\n",
    "（1）从Branch到Remote Repository：\n",
    "\n",
    "-在最基本的原始目录下安装.ssh目录：`ssh-keygen -t rsa -C \"xxxxxx@email.com\"`；\n",
    "-在.ssh目录下复制公钥`cat id_rsa.pub`到[GitHub>setting>SSH and GPG keys>New SSH key](https://github.com/settings/keys)添加key；\n",
    "-登陆GitHub并创建与本地该仓库同名的仓库\n",
    "\n",
    "（2）从Remote Repository到Branch：\n"
   ]
  },
  {
   "cell_type": "markdown",
   "metadata": {},
   "source": [
    "# Branch "
   ]
  },
  {
   "cell_type": "markdown",
   "metadata": {},
   "source": [
    "# Occasion"
   ]
  },
  {
   "cell_type": "markdown",
   "metadata": {},
   "source": [
    "# Reference "
   ]
  }
 ],
 "metadata": {
  "kernelspec": {
   "display_name": "Python 3",
   "language": "python",
   "name": "python3"
  },
  "language_info": {
   "codemirror_mode": {
    "name": "ipython",
    "version": 3
   },
   "file_extension": ".py",
   "mimetype": "text/x-python",
   "name": "python",
   "nbconvert_exporter": "python",
   "pygments_lexer": "ipython3",
   "version": "3.7.7"
  },
  "toc": {
   "base_numbering": 1,
   "nav_menu": {},
   "number_sections": true,
   "sideBar": true,
   "skip_h1_title": false,
   "title_cell": "Table of Contents",
   "title_sidebar": "Contents",
   "toc_cell": false,
   "toc_position": {},
   "toc_section_display": true,
   "toc_window_display": true
  }
 },
 "nbformat": 4,
 "nbformat_minor": 4
}
