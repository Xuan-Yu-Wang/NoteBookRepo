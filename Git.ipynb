{
 "cells": [
  {
   "cell_type": "markdown",
   "metadata": {},
   "source": [
    "# Summary "
   ]
  },
  {
   "cell_type": "markdown",
   "metadata": {},
   "source": [
    "# Installnation\n",
    "\n",
    "## Windows\n",
    "\n",
    "1. [官网](https://git-scm.com/downloads)下载Git程序，然后按照默认选项安装即可；\n",
    "\n",
    "2. 在开始菜单打开Git Bash即可；\n",
    "\n",
    "3. 在Git Bash终端设置本机全局账户（--global参数表明此机所有Git Repository都会沿用此配置，当然也可以针对不同repository设置不同账户）：\n",
    "\n",
    "```\n",
    "git config --global user.name \"Xuan-Yu Wang\"\n",
    "\n",
    "git config --global user.email \"wangxuanyu@cau.edu.cn\"\n",
    "```\n",
    "*说明：*\n",
    "\n",
    "*- Git Bash在本机的当前安装目录为`C:\\users\\Allen X Y Wang`，因此每次启动Git Bash后可通过`cd C:/users/'Allen X Y Wang'/`进入操作目录*\n",
    "\n",
    "## Mac OS\n",
    "\n",
    "1. Mac OS可通过直接安装Xcode来获取git；\n",
    "\n",
    "2. 打开终端，在当前操作目录下设置本机全局账户：\n",
    "\n",
    "\n",
    "```\n",
    "git config --global user.name \"Xuan-Yu Wang\"\n",
    "\n",
    "git config --global user.email \"wangxuanyu@cau.edu.cn\"\n",
    "```"
   ]
  },
  {
   "cell_type": "markdown",
   "metadata": {},
   "source": [
    "# Repository \n",
    "\n",
    "## 本地仓库\n",
    "\n",
    "仓库可以理解为目录或文件夹，该目录下的所有文件动态均被git管理。因为git会将目录下所有动态过程记录在master分支里，同时考虑到ssh密钥以及git账户全局管理的问题，本机按照如下路径管理办法进行git本地仓库配置：\n",
    "\n",
    "- 所有Project均存放在`C:\\users\\Allen X Y Wang\\ProMana`或`user/wangxuanyu/ProMana`目录下；\n",
    "\n",
    "- 每个Project目录内各自初始化、建分支、链接同名远程仓库，彼此互不牵涉。\n",
    "\n",
    "\n",
    "### 仓库初始化\n",
    "\n",
    "### 仓库管理\n",
    "\n",
    "## 远程仓库"
   ]
  },
  {
   "cell_type": "markdown",
   "metadata": {},
   "source": [
    "# Branch "
   ]
  },
  {
   "cell_type": "markdown",
   "metadata": {},
   "source": [
    "# Occasion"
   ]
  },
  {
   "cell_type": "markdown",
   "metadata": {},
   "source": [
    "# Reference "
   ]
  }
 ],
 "metadata": {
  "kernelspec": {
   "display_name": "Python 3",
   "language": "python",
   "name": "python3"
  },
  "language_info": {
   "codemirror_mode": {
    "name": "ipython",
    "version": 3
   },
   "file_extension": ".py",
   "mimetype": "text/x-python",
   "name": "python",
   "nbconvert_exporter": "python",
   "pygments_lexer": "ipython3",
   "version": "3.7.7"
  },
  "toc": {
   "base_numbering": 1,
   "nav_menu": {},
   "number_sections": true,
   "sideBar": true,
   "skip_h1_title": false,
   "title_cell": "Table of Contents",
   "title_sidebar": "Contents",
   "toc_cell": false,
   "toc_position": {},
   "toc_section_display": true,
   "toc_window_display": true
  }
 },
 "nbformat": 4,
 "nbformat_minor": 4
}
