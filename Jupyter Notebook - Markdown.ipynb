{
 "cells": [
  {
   "cell_type": "markdown",
   "metadata": {},
   "source": [
    "# Introduction "
   ]
  },
  {
   "cell_type": "markdown",
   "metadata": {},
   "source": [
    "# Skills "
   ]
  },
  {
   "cell_type": "markdown",
   "metadata": {},
   "source": [
    "## 段落与换行\n",
    "\n",
    "1. 段落的前后必须是空行：\n",
    "\n",
    "    空行指的是行内什么都没有，或者只有空白符（空格或制表符）\n",
    "\n",
    "    相邻两行文本，如果中间没有空行 会显示在一行中（换行符被转换为空格）\n",
    "    \n",
    "\n",
    "2. 如果需要在段落内加入换行（`<br>`）：\n",
    "\n",
    "    可以在前一行的末尾加入至少两个空格\n",
    "    \n",
    "    然后换行写其它的文字\n",
    "    \n",
    "\n",
    "3. Markdown 中的多数区块都需要在两个空行之间。"
   ]
  },
  {
   "cell_type": "markdown",
   "metadata": {},
   "source": [
    "# Reference\n",
    "\n",
    "- [Markdown入门参考](http://xianbai.me/learn-md/index.html)"
   ]
  }
 ],
 "metadata": {
  "kernelspec": {
   "display_name": "Python 3",
   "language": "python",
   "name": "python3"
  },
  "language_info": {
   "codemirror_mode": {
    "name": "ipython",
    "version": 3
   },
   "file_extension": ".py",
   "mimetype": "text/x-python",
   "name": "python",
   "nbconvert_exporter": "python",
   "pygments_lexer": "ipython3",
   "version": "3.7.7"
  },
  "toc": {
   "base_numbering": 1,
   "nav_menu": {},
   "number_sections": true,
   "sideBar": true,
   "skip_h1_title": false,
   "title_cell": "Table of Contents",
   "title_sidebar": "Contents",
   "toc_cell": false,
   "toc_position": {},
   "toc_section_display": true,
   "toc_window_display": false
  }
 },
 "nbformat": 4,
 "nbformat_minor": 4
}
